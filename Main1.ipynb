{
 "cells": [
  {
   "cell_type": "markdown",
   "metadata": {},
   "source": [
    "## 合併智慧手環輸出的原始資料, 有\"手環編號\".csv的以秒為單位的n個檔案, 和有\"手環編號_測量日期\".txt以10秒為單位的n個檔案, 目的是整合這兩個資料, 並輸出為output.csv\n",
    "\n",
    "## 不同手環輸出的體溫值, 需再以不同參數校正"
   ]
  },
  {
   "cell_type": "code",
   "execution_count": 1,
   "metadata": {},
   "outputs": [],
   "source": [
    "import pandas as pd\n",
    "import os\n",
    "import matplotlib.pyplot as plt"
   ]
  },
  {
   "cell_type": "code",
   "execution_count": 2,
   "metadata": {},
   "outputs": [
    {
     "data": {
      "text/plain": [
       "['.gitignore',\n",
       " '.ipynb_checkpoints',\n",
       " '0176.csv',\n",
       " '0176_20181205.txt',\n",
       " '0176_20181206.txt',\n",
       " '0176_20181207.txt',\n",
       " '0182.csv',\n",
       " '610D.csv',\n",
       " 'Demo.csv',\n",
       " 'Home.csv',\n",
       " 'LICENSE',\n",
       " 'Main.ipynb',\n",
       " 'Main1.ipynb',\n",
       " 'Main2.ipynb',\n",
       " 'normal.xlsx',\n",
       " 'Phase2.csv',\n",
       " 'phase23HomeOutput_1.csv',\n",
       " 'Phase3.csv']"
      ]
     },
     "execution_count": 2,
     "metadata": {},
     "output_type": "execute_result"
    }
   ],
   "source": [
    "files=os.listdir()\n",
    "files"
   ]
  },
  {
   "cell_type": "code",
   "execution_count": 3,
   "metadata": {},
   "outputs": [
    {
     "name": "stdout",
     "output_type": "stream",
     "text": [
      "txtFilesToRead ['0176_20181205.txt', '0176_20181206.txt', '0176_20181207.txt']\n",
      "csvFilesToRead ['0176.csv', '0182.csv', '610D.csv', 'Demo.csv', 'Home.csv', 'Phase2.csv', 'phase23HomeOutput_1.csv', 'Phase3.csv']\n"
     ]
    }
   ],
   "source": [
    "txtFilesToRead=[] #DH78_0176_saved_data_1205.txt\n",
    "csvFilesToRead=[] #back1.csv\n",
    "for file in files:\n",
    "    if '.txt' in file :\n",
    "        txtFilesToRead.append(file)\n",
    "    elif '.csv' in file:\n",
    "        csvFilesToRead.append(file)\n",
    "\n",
    "txtFileAmount=len(txtFilesToRead)\n",
    "csvFileAmount=len(csvFilesToRead)\n",
    "print('txtFilesToRead',txtFilesToRead)\n",
    "print('csvFilesToRead',csvFilesToRead)"
   ]
  },
  {
   "cell_type": "markdown",
   "metadata": {},
   "source": [
    "# CSV (檔名為機器編號)"
   ]
  },
  {
   "cell_type": "code",
   "execution_count": 4,
   "metadata": {},
   "outputs": [
    {
     "data": {
      "text/html": [
       "<div>\n",
       "<style scoped>\n",
       "    .dataframe tbody tr th:only-of-type {\n",
       "        vertical-align: middle;\n",
       "    }\n",
       "\n",
       "    .dataframe tbody tr th {\n",
       "        vertical-align: top;\n",
       "    }\n",
       "\n",
       "    .dataframe thead th {\n",
       "        text-align: right;\n",
       "    }\n",
       "</style>\n",
       "<table border=\"1\" class=\"dataframe\">\n",
       "  <thead>\n",
       "    <tr style=\"text-align: right;\">\n",
       "      <th></th>\n",
       "      <th>0</th>\n",
       "      <th>1</th>\n",
       "      <th>2</th>\n",
       "      <th>3</th>\n",
       "      <th>4</th>\n",
       "      <th>BT</th>\n",
       "    </tr>\n",
       "  </thead>\n",
       "  <tbody>\n",
       "  </tbody>\n",
       "</table>\n",
       "</div>"
      ],
      "text/plain": [
       "Empty DataFrame\n",
       "Columns: [0, 1, 2, 3, 4, BT]\n",
       "Index: []"
      ]
     },
     "execution_count": 4,
     "metadata": {},
     "output_type": "execute_result"
    }
   ],
   "source": [
    "#先csv, 檔名需一樣, 注意大小寫\n",
    "csvDf=pd.DataFrame(columns=[0,1,2,3,4,'BT'])\n",
    "csvDf.head()\n",
    "#0 Date, 1 Time, 2 心跳, 3 原始溫度(千度), 4 是否在活動, 5 校正後溫度"
   ]
  },
  {
   "cell_type": "code",
   "execution_count": 5,
   "metadata": {},
   "outputs": [],
   "source": [
    "for i in range(0,csvFileAmount):\n",
    "    df=pd.read_csv(csvFilesToRead[i],header=None)\n",
    "    if '0154' in csvFilesToRead[i]:\n",
    "        df['BT']=df[3]\n",
    "        df.insert(5, '5', 1.058)\n",
    "        df.insert(6, '6', -0.209)\n",
    "        df['BT']=(df['BT']*df.pop('5')+df.pop('6'))/100\n",
    "        csvDf=csvDf.append(df)\n",
    "    elif '0157' in csvFilesToRead[i]:\n",
    "        df['BT']=df[3]\n",
    "        df.insert(5, '5', 1.002)\n",
    "        df.insert(6, '6', 0.022)\n",
    "        df['BT']=(df['BT']*df.pop('5')+df.pop('6'))/100\n",
    "        csvDf=csvDf.append(df)\n",
    "    elif '0159' in csvFilesToRead[i]:\n",
    "        df['BT']=df[3]\n",
    "        df.insert(5, '5', 1.025)\n",
    "        df.insert(6, '6', -1.712)\n",
    "        df['BT']=(df['BT']*df.pop('5')+df.pop('6'))/100\n",
    "        csvDf=csvDf.append(df)\n",
    "    elif '0164' in csvFilesToRead[i]:\n",
    "        df['BT']=df[3]\n",
    "        df.insert(5, '5', 1.025)\n",
    "        df.insert(6, '6', -1.712)\n",
    "        df['BT']=(df['BT']*df.pop('5')+df.pop('6'))/100\n",
    "        csvDf=csvDf.append(df)\n",
    "    elif '0171' in csvFilesToRead[i]:\n",
    "        df['BT']=df[3]\n",
    "        df.insert(5, '5', 1.038)\n",
    "        df.insert(6, '6', -0.088)\n",
    "        df['BT']=(df['BT']*df.pop('5')+df.pop('6'))/100\n",
    "        csvDf=csvDf.append(df)\n",
    "    elif '0176' in csvFilesToRead[i]:\n",
    "        df['BT']=df[3]\n",
    "        df.insert(5, '5', 1.008)\n",
    "        df.insert(6, '6', -0.171)\n",
    "        df['BT']=(df['BT']*df.pop('5')+df.pop('6'))/100\n",
    "        csvDf=csvDf.append(df)\n",
    "    elif '0182' in csvFilesToRead[i]:\n",
    "        df['BT']=df[3]\n",
    "        df.insert(5, '5', 1.031)\n",
    "        df.insert(6, '6', -0.912)\n",
    "        df['BT']=(df['BT']*df.pop('5')+df.pop('6'))/100\n",
    "        csvDf=csvDf.append(df)\n",
    "    elif '0185' in csvFilesToRead[i]:\n",
    "        df['BT']=df[3]\n",
    "        df.insert(5, '5', 1.055)\n",
    "        df.insert(6, '6', -1.638)\n",
    "        df['BT']=(df['BT']*df.pop('5')+df.pop('6'))/100\n",
    "        csvDf=csvDf.append(df)\n",
    "    elif '0187' in csvFilesToRead[i]:\n",
    "        df['BT']=df[3]\n",
    "        df.insert(5, '5', 1.02)\n",
    "        df.insert(6, '6', -0.675)\n",
    "        df['BT']=(df['BT']*df.pop('5')+df.pop('6'))/100\n",
    "        csvDf=csvDf.append(df)\n",
    "    elif '6110' in csvFilesToRead[i]:\n",
    "        df['BT']=df[3]\n",
    "        df.insert(5, '5', 1.082)\n",
    "        df.insert(6, '6', -2.029)\n",
    "        df['BT']=(df['BT']*df.pop('5')+df.pop('6'))/100\n",
    "        csvDf=csvDf.append(df)\n",
    "    elif '6115' in csvFilesToRead[i]:\n",
    "        df['BT']=df[3]\n",
    "        df.insert(5, '5', 1.056)\n",
    "        df.insert(6, '6', -2.032)\n",
    "        df['BT']=(df['BT']*df.pop('5')+df.pop('6'))/100\n",
    "        csvDf=csvDf.append(df)\n",
    "    elif '6119' in csvFilesToRead[i]:\n",
    "        df['BT']=df[3]\n",
    "        df.insert(5, '5', 1.026)\n",
    "        df.insert(6, '6', -0.736)\n",
    "        df['BT']=(df['BT']*df.pop('5')+df.pop('6'))/100\n",
    "        csvDf=csvDf.append(df)\n",
    "    elif '015C' in csvFilesToRead[i]:\n",
    "        df['BT']=df[3]\n",
    "        df.insert(5, '5', 1.087)\n",
    "        df.insert(6, '6', -1.976)\n",
    "        df['BT']=(df['BT']*df.pop('5')+df.pop('6'))/100\n",
    "        csvDf=csvDf.append(df)\n",
    "    elif '016F' in csvFilesToRead[i]:\n",
    "        df['BT']=df[3]\n",
    "        df.insert(5, '5', 1.108)\n",
    "        df.insert(6, '6', -1.72)\n",
    "        df['BT']=(df['BT']*df.pop('5')+df.pop('6'))/100\n",
    "        csvDf=csvDf.append(df)\n",
    "    elif '018A' in csvFilesToRead[i]:\n",
    "        df['BT']=df[3]\n",
    "        df.insert(5, '5', 1.053)\n",
    "        df.insert(6, '6', -2.26)\n",
    "        df['BT']=(df['BT']*df.pop('5')+df.pop('6'))/100\n",
    "        csvDf=csvDf.append(df)\n",
    "    elif '610D' in csvFilesToRead[i]:\n",
    "        df['BT']=df[3]\n",
    "        df.insert(5, '5', 1.044)\n",
    "        df.insert(6, '6', -1.399)\n",
    "        df['BT']=(df['BT']*df.pop('5')+df.pop('6'))/100\n",
    "        csvDf=csvDf.append(df)\n",
    "    elif '610E' in csvFilesToRead[i]:\n",
    "        df['BT']=df[3]\n",
    "        df.insert(5, '5', 1.064)\n",
    "        df.insert(6, '6', -1.87)\n",
    "        df['BT']=(df['BT']*df.pop('5')+df.pop('6'))/100\n",
    "        csvDf=csvDf.append(df)\n",
    "    elif '611C' in csvFilesToRead[i]:\n",
    "        df['BT']=df[3]\n",
    "        df.insert(5, '5', 1.074)\n",
    "        df.insert(6, '6', -3.202)\n",
    "        df['BT']=(df['BT']*df.pop('5')+df.pop('6'))/100\n",
    "        csvDf=csvDf.append(df)\n",
    "    elif '612B' in csvFilesToRead[i]:\n",
    "        df['BT']=df[3]\n",
    "        df.insert(5, '5', 1.068)\n",
    "        df.insert(6, '6', -1.43)\n",
    "        df['BT']=(df['BT']*df.pop('5')+df.pop('6'))/100\n",
    "        csvDf=csvDf.append(df)\n"
   ]
  },
  {
   "cell_type": "code",
   "execution_count": 6,
   "metadata": {},
   "outputs": [
    {
     "data": {
      "text/plain": [
       "(568899, 6)"
      ]
     },
     "execution_count": 6,
     "metadata": {},
     "output_type": "execute_result"
    }
   ],
   "source": [
    "#csv部分的(row,col)\n",
    "csvDf.shape"
   ]
  },
  {
   "cell_type": "code",
   "execution_count": 7,
   "metadata": {},
   "outputs": [
    {
     "data": {
      "text/html": [
       "<div>\n",
       "<style scoped>\n",
       "    .dataframe tbody tr th:only-of-type {\n",
       "        vertical-align: middle;\n",
       "    }\n",
       "\n",
       "    .dataframe tbody tr th {\n",
       "        vertical-align: top;\n",
       "    }\n",
       "\n",
       "    .dataframe thead th {\n",
       "        text-align: right;\n",
       "    }\n",
       "</style>\n",
       "<table border=\"1\" class=\"dataframe\">\n",
       "  <thead>\n",
       "    <tr style=\"text-align: right;\">\n",
       "      <th></th>\n",
       "      <th>0</th>\n",
       "      <th>1</th>\n",
       "      <th>2</th>\n",
       "      <th>3</th>\n",
       "      <th>4</th>\n",
       "      <th>BT</th>\n",
       "    </tr>\n",
       "  </thead>\n",
       "  <tbody>\n",
       "    <tr>\n",
       "      <th>248551</th>\n",
       "      <td>2018/12/3</td>\n",
       "      <td>18:10:20</td>\n",
       "      <td>109</td>\n",
       "      <td>3053</td>\n",
       "      <td>1</td>\n",
       "      <td>31.85933</td>\n",
       "    </tr>\n",
       "    <tr>\n",
       "      <th>248552</th>\n",
       "      <td>2018/12/3</td>\n",
       "      <td>22:45:48</td>\n",
       "      <td>84</td>\n",
       "      <td>3257</td>\n",
       "      <td>0</td>\n",
       "      <td>33.98909</td>\n",
       "    </tr>\n",
       "    <tr>\n",
       "      <th>248553</th>\n",
       "      <td>2018/12/3</td>\n",
       "      <td>22:45:49</td>\n",
       "      <td>85</td>\n",
       "      <td>3256</td>\n",
       "      <td>0</td>\n",
       "      <td>33.97865</td>\n",
       "    </tr>\n",
       "    <tr>\n",
       "      <th>248554</th>\n",
       "      <td>2018/12/3</td>\n",
       "      <td>22:45:50</td>\n",
       "      <td>86</td>\n",
       "      <td>3257</td>\n",
       "      <td>0</td>\n",
       "      <td>33.98909</td>\n",
       "    </tr>\n",
       "    <tr>\n",
       "      <th>248555</th>\n",
       "      <td>2018/12/3</td>\n",
       "      <td>22:45:51</td>\n",
       "      <td>87</td>\n",
       "      <td>3255</td>\n",
       "      <td>0</td>\n",
       "      <td>33.96821</td>\n",
       "    </tr>\n",
       "  </tbody>\n",
       "</table>\n",
       "</div>"
      ],
      "text/plain": [
       "                0         1    2     3  4        BT\n",
       "248551  2018/12/3  18:10:20  109  3053  1  31.85933\n",
       "248552  2018/12/3  22:45:48   84  3257  0  33.98909\n",
       "248553  2018/12/3  22:45:49   85  3256  0  33.97865\n",
       "248554  2018/12/3  22:45:50   86  3257  0  33.98909\n",
       "248555  2018/12/3  22:45:51   87  3255  0  33.96821"
      ]
     },
     "execution_count": 7,
     "metadata": {},
     "output_type": "execute_result"
    }
   ],
   "source": [
    "csvDf.tail() #unsorted csv top5"
   ]
  },
  {
   "cell_type": "markdown",
   "metadata": {},
   "source": [
    "# txt (檔名為 機器編號_YYYYMMDD)"
   ]
  },
  {
   "cell_type": "code",
   "execution_count": 8,
   "metadata": {},
   "outputs": [],
   "source": [
    "txtDf=pd.read_csv(txtFilesToRead[0])\n",
    "for i in range(0,txtFileAmount):\n",
    "    df=pd.read_csv(txtFilesToRead[i],header=None)\n",
    "    machine=txtFilesToRead[i][0:4]\n",
    "    date=txtFilesToRead[i][5:9]+'/'+txtFilesToRead[i][9:11]+'/'+txtFilesToRead[i][11:13]\n",
    "    df.insert(0,'date',date)\n",
    "    df.columns=[0,1,2,3,4]\n",
    "    df['BT']=df[3]\n",
    "    if '0154' == machine:\n",
    "        df.insert(5, '5', 1.058)\n",
    "        df.insert(6, '6', -0.209)\n",
    "        df['BT']=(df['BT']*df.pop('5')+df.pop('6'))/100\n",
    "        csvDf=csvDf.append(df)\n",
    "    elif '0157' == machine:\n",
    "        df.insert(5, '5', 1.002)\n",
    "        df.insert(6, '6', 0.022)\n",
    "        df['BT']=(df['BT']*df.pop('5')+df.pop('6'))/100\n",
    "        csvDf=csvDf.append(df)\n",
    "    elif '0159' == machine:\n",
    "        df.insert(5, '5', 1.025)\n",
    "        df.insert(6, '6', -1.712)\n",
    "        df['BT']=(df['BT']*df.pop('5')+df.pop('6'))/100\n",
    "        csvDf=csvDf.append(df)\n",
    "    elif '0164' == machine:\n",
    "        df.insert(5, '5', 1.025)\n",
    "        df.insert(6, '6', -1.712)\n",
    "        df['BT']=(df['BT']*df.pop('5')+df.pop('6'))/100\n",
    "        csvDf=csvDf.append(df)\n",
    "    elif '0171' == machine:\n",
    "        df.insert(5, '5', 1.038)\n",
    "        df.insert(6, '6', -0.088)\n",
    "        df['BT']=(df['BT']*df.pop('5')+df.pop('6'))/100\n",
    "        csvDf=csvDf.append(df)\n",
    "    elif '0176' == machine:\n",
    "        df.insert(5, '5', 1.008)\n",
    "        df.insert(6, '6', -0.171)\n",
    "        df['BT']=(df['BT']*df.pop('5')+df.pop('6'))/100\n",
    "        csvDf=csvDf.append(df)\n",
    "    elif '0182' == machine:\n",
    "        df.insert(5, '5', 1.031)\n",
    "        df.insert(6, '6', -0.912)\n",
    "        df['BT']=(df['BT']*df.pop('5')+df.pop('6'))/100\n",
    "        csvDf=csvDf.append(df)\n",
    "    elif '0185' == machine:\n",
    "        df.insert(5, '5', 1.055)\n",
    "        df.insert(6, '6', -1.638)\n",
    "        df['BT']=(df['BT']*df.pop('5')+df.pop('6'))/100\n",
    "        csvDf=csvDf.append(df)\n",
    "    elif '0187' == machine:\n",
    "        df.insert(5, '5', 1.02)\n",
    "        df.insert(6, '6', -0.675)\n",
    "        df['BT']=(df['BT']*df.pop('5')+df.pop('6'))/100\n",
    "        csvDf=csvDf.append(df)\n",
    "    elif '6110' == machine:\n",
    "        df.insert(5, '5', 1.082)\n",
    "        df.insert(6, '6', -2.029)\n",
    "        df['BT']=(df['BT']*df.pop('5')+df.pop('6'))/100\n",
    "        csvDf=csvDf.append(df)\n",
    "    elif '6115' == machine:\n",
    "        df.insert(5, '5', 1.056)\n",
    "        df.insert(6, '6', -2.032)\n",
    "        df['BT']=(df['BT']*df.pop('5')+df.pop('6'))/100\n",
    "        csvDf=csvDf.append(df)\n",
    "    elif '6119' == machine:\n",
    "        df.insert(5, '5', 1.026)\n",
    "        df.insert(6, '6', -0.736)\n",
    "        df['BT']=(df['BT']*df.pop('5')+df.pop('6'))/100\n",
    "        csvDf=csvDf.append(df)\n",
    "    elif '015C' == machine:\n",
    "        df.insert(5, '5', 1.087)\n",
    "        df.insert(6, '6', -1.976)\n",
    "        df['BT']=(df['BT']*df.pop('5')+df.pop('6'))/100\n",
    "        csvDf=csvDf.append(df)\n",
    "    elif '016F' == machine:\n",
    "        df.insert(5, '5', 1.108)\n",
    "        df.insert(6, '6', -1.72)\n",
    "        df['BT']=(df['BT']*df.pop('5')+df.pop('6'))/100\n",
    "        csvDf=csvDf.append(df)\n",
    "    elif '018A' == machine:\n",
    "        df.insert(5, '5', 1.053)\n",
    "        df.insert(6, '6', -2.26)\n",
    "        df['BT']=(df['BT']*df.pop('5')+df.pop('6'))/100\n",
    "        csvDf=csvDf.append(df)\n",
    "    elif '610D' == machine:\n",
    "        df.insert(5, '5', 1.044)\n",
    "        df.insert(6, '6', -1.399)\n",
    "        df['BT']=(df['BT']*df.pop('5')+df.pop('6'))/100\n",
    "        csvDf=csvDf.append(df)\n",
    "    elif '610E' == machine:\n",
    "        df.insert(5, '5', 1.064)\n",
    "        df.insert(6, '6', -1.87)\n",
    "        df['BT']=(df['BT']*df.pop('5')+df.pop('6'))/100\n",
    "        csvDf=csvDf.append(df)\n",
    "    elif '611C' == machine:\n",
    "        df.insert(5, '5', 1.074)\n",
    "        df.insert(6, '6', -3.202)\n",
    "        df['BT']=(df['BT']*df.pop('5')+df.pop('6'))/100\n",
    "        csvDf=csvDf.append(df)\n",
    "    elif '612B' == machine:\n",
    "        df.insert(5, '5', 1.068)\n",
    "        df.insert(6, '6', -1.43)\n",
    "        df['BT']=(df['BT']*df.pop('5')+df.pop('6'))/100\n",
    "        csvDf=csvDf.append(df)\n"
   ]
  },
  {
   "cell_type": "code",
   "execution_count": 9,
   "metadata": {},
   "outputs": [
    {
     "data": {
      "text/plain": [
       "(584944, 6)"
      ]
     },
     "execution_count": 9,
     "metadata": {},
     "output_type": "execute_result"
    }
   ],
   "source": [
    "csvDf.shape"
   ]
  },
  {
   "cell_type": "code",
   "execution_count": 10,
   "metadata": {},
   "outputs": [
    {
     "data": {
      "text/html": [
       "<div>\n",
       "<style scoped>\n",
       "    .dataframe tbody tr th:only-of-type {\n",
       "        vertical-align: middle;\n",
       "    }\n",
       "\n",
       "    .dataframe tbody tr th {\n",
       "        vertical-align: top;\n",
       "    }\n",
       "\n",
       "    .dataframe thead th {\n",
       "        text-align: right;\n",
       "    }\n",
       "</style>\n",
       "<table border=\"1\" class=\"dataframe\">\n",
       "  <thead>\n",
       "    <tr style=\"text-align: right;\">\n",
       "      <th></th>\n",
       "      <th>0</th>\n",
       "      <th>1</th>\n",
       "      <th>2</th>\n",
       "      <th>3</th>\n",
       "      <th>4</th>\n",
       "      <th>BT</th>\n",
       "    </tr>\n",
       "  </thead>\n",
       "  <tbody>\n",
       "    <tr>\n",
       "      <th>3593</th>\n",
       "      <td>2018/12/07</td>\n",
       "      <td>09:59:10</td>\n",
       "      <td>93</td>\n",
       "      <td>2808</td>\n",
       "      <td>1</td>\n",
       "      <td>28.30293</td>\n",
       "    </tr>\n",
       "    <tr>\n",
       "      <th>3594</th>\n",
       "      <td>2018/12/07</td>\n",
       "      <td>09:59:20</td>\n",
       "      <td>93</td>\n",
       "      <td>2788</td>\n",
       "      <td>1</td>\n",
       "      <td>28.10133</td>\n",
       "    </tr>\n",
       "    <tr>\n",
       "      <th>3595</th>\n",
       "      <td>2018/12/07</td>\n",
       "      <td>09:59:30</td>\n",
       "      <td>255</td>\n",
       "      <td>65535</td>\n",
       "      <td>255</td>\n",
       "      <td>660.59109</td>\n",
       "    </tr>\n",
       "    <tr>\n",
       "      <th>3596</th>\n",
       "      <td>2018/12/07</td>\n",
       "      <td>09:59:40</td>\n",
       "      <td>255</td>\n",
       "      <td>65535</td>\n",
       "      <td>255</td>\n",
       "      <td>660.59109</td>\n",
       "    </tr>\n",
       "    <tr>\n",
       "      <th>3597</th>\n",
       "      <td>2018/12/07</td>\n",
       "      <td>09:59:50</td>\n",
       "      <td>255</td>\n",
       "      <td>65535</td>\n",
       "      <td>255</td>\n",
       "      <td>660.59109</td>\n",
       "    </tr>\n",
       "  </tbody>\n",
       "</table>\n",
       "</div>"
      ],
      "text/plain": [
       "               0         1    2      3    4         BT\n",
       "3593  2018/12/07  09:59:10   93   2808    1   28.30293\n",
       "3594  2018/12/07  09:59:20   93   2788    1   28.10133\n",
       "3595  2018/12/07  09:59:30  255  65535  255  660.59109\n",
       "3596  2018/12/07  09:59:40  255  65535  255  660.59109\n",
       "3597  2018/12/07  09:59:50  255  65535  255  660.59109"
      ]
     },
     "execution_count": 10,
     "metadata": {},
     "output_type": "execute_result"
    }
   ],
   "source": [
    "csvDf.tail()\n",
    "# csvDf=csvDf.drop(index=[3595],axis=0)"
   ]
  },
  {
   "cell_type": "markdown",
   "metadata": {},
   "source": [
    "# Sort"
   ]
  },
  {
   "cell_type": "code",
   "execution_count": 11,
   "metadata": {},
   "outputs": [
    {
     "data": {
      "text/plain": [
       "(581344, 6)"
      ]
     },
     "execution_count": 11,
     "metadata": {},
     "output_type": "execute_result"
    }
   ],
   "source": [
    "csvDf=csvDf.sort_values([0,1])\n",
    "csvDf=csvDf.drop_duplicates()\n",
    "csvDf.shape"
   ]
  },
  {
   "cell_type": "code",
   "execution_count": 12,
   "metadata": {},
   "outputs": [
    {
     "data": {
      "text/html": [
       "<div>\n",
       "<style scoped>\n",
       "    .dataframe tbody tr th:only-of-type {\n",
       "        vertical-align: middle;\n",
       "    }\n",
       "\n",
       "    .dataframe tbody tr th {\n",
       "        vertical-align: top;\n",
       "    }\n",
       "\n",
       "    .dataframe thead th {\n",
       "        text-align: right;\n",
       "    }\n",
       "</style>\n",
       "<table border=\"1\" class=\"dataframe\">\n",
       "  <thead>\n",
       "    <tr style=\"text-align: right;\">\n",
       "      <th></th>\n",
       "      <th>0</th>\n",
       "      <th>1</th>\n",
       "      <th>2</th>\n",
       "      <th>3</th>\n",
       "      <th>4</th>\n",
       "      <th>BT</th>\n",
       "    </tr>\n",
       "  </thead>\n",
       "  <tbody>\n",
       "    <tr>\n",
       "      <th>0</th>\n",
       "      <td>2018/11/22</td>\n",
       "      <td>12:29:21</td>\n",
       "      <td>79</td>\n",
       "      <td>3176</td>\n",
       "      <td>0</td>\n",
       "      <td>32.73544</td>\n",
       "    </tr>\n",
       "    <tr>\n",
       "      <th>1</th>\n",
       "      <td>2018/11/22</td>\n",
       "      <td>12:29:22</td>\n",
       "      <td>79</td>\n",
       "      <td>3179</td>\n",
       "      <td>0</td>\n",
       "      <td>32.76637</td>\n",
       "    </tr>\n",
       "    <tr>\n",
       "      <th>2</th>\n",
       "      <td>2018/11/22</td>\n",
       "      <td>12:29:23</td>\n",
       "      <td>79</td>\n",
       "      <td>3182</td>\n",
       "      <td>0</td>\n",
       "      <td>32.79730</td>\n",
       "    </tr>\n",
       "    <tr>\n",
       "      <th>3</th>\n",
       "      <td>2018/11/22</td>\n",
       "      <td>12:29:24</td>\n",
       "      <td>78</td>\n",
       "      <td>3181</td>\n",
       "      <td>1</td>\n",
       "      <td>32.78699</td>\n",
       "    </tr>\n",
       "    <tr>\n",
       "      <th>4</th>\n",
       "      <td>2018/11/22</td>\n",
       "      <td>12:29:25</td>\n",
       "      <td>78</td>\n",
       "      <td>3180</td>\n",
       "      <td>1</td>\n",
       "      <td>32.77668</td>\n",
       "    </tr>\n",
       "  </tbody>\n",
       "</table>\n",
       "</div>"
      ],
      "text/plain": [
       "            0         1   2     3  4        BT\n",
       "0  2018/11/22  12:29:21  79  3176  0  32.73544\n",
       "1  2018/11/22  12:29:22  79  3179  0  32.76637\n",
       "2  2018/11/22  12:29:23  79  3182  0  32.79730\n",
       "3  2018/11/22  12:29:24  78  3181  1  32.78699\n",
       "4  2018/11/22  12:29:25  78  3180  1  32.77668"
      ]
     },
     "execution_count": 12,
     "metadata": {},
     "output_type": "execute_result"
    }
   ],
   "source": [
    "csvDf.head()"
   ]
  },
  {
   "cell_type": "markdown",
   "metadata": {},
   "source": [
    "# Split"
   ]
  },
  {
   "cell_type": "code",
   "execution_count": 18,
   "metadata": {},
   "outputs": [],
   "source": [
    "csvDf['time1'],csvDf['sec']=csvDf[1].str.rsplit(':', n=1).str"
   ]
  },
  {
   "cell_type": "code",
   "execution_count": 19,
   "metadata": {},
   "outputs": [
    {
     "data": {
      "text/html": [
       "<div>\n",
       "<style scoped>\n",
       "    .dataframe tbody tr th:only-of-type {\n",
       "        vertical-align: middle;\n",
       "    }\n",
       "\n",
       "    .dataframe tbody tr th {\n",
       "        vertical-align: top;\n",
       "    }\n",
       "\n",
       "    .dataframe thead th {\n",
       "        text-align: right;\n",
       "    }\n",
       "</style>\n",
       "<table border=\"1\" class=\"dataframe\">\n",
       "  <thead>\n",
       "    <tr style=\"text-align: right;\">\n",
       "      <th></th>\n",
       "      <th>0</th>\n",
       "      <th>1</th>\n",
       "      <th>2</th>\n",
       "      <th>3</th>\n",
       "      <th>4</th>\n",
       "      <th>BT</th>\n",
       "      <th>time1</th>\n",
       "      <th>sec</th>\n",
       "    </tr>\n",
       "  </thead>\n",
       "  <tbody>\n",
       "    <tr>\n",
       "      <th>0</th>\n",
       "      <td>2018/11/22</td>\n",
       "      <td>12:29:21</td>\n",
       "      <td>79</td>\n",
       "      <td>3176</td>\n",
       "      <td>0</td>\n",
       "      <td>32.73544</td>\n",
       "      <td>12:29</td>\n",
       "      <td>21</td>\n",
       "    </tr>\n",
       "    <tr>\n",
       "      <th>1</th>\n",
       "      <td>2018/11/22</td>\n",
       "      <td>12:29:22</td>\n",
       "      <td>79</td>\n",
       "      <td>3179</td>\n",
       "      <td>0</td>\n",
       "      <td>32.76637</td>\n",
       "      <td>12:29</td>\n",
       "      <td>22</td>\n",
       "    </tr>\n",
       "    <tr>\n",
       "      <th>2</th>\n",
       "      <td>2018/11/22</td>\n",
       "      <td>12:29:23</td>\n",
       "      <td>79</td>\n",
       "      <td>3182</td>\n",
       "      <td>0</td>\n",
       "      <td>32.79730</td>\n",
       "      <td>12:29</td>\n",
       "      <td>23</td>\n",
       "    </tr>\n",
       "    <tr>\n",
       "      <th>3</th>\n",
       "      <td>2018/11/22</td>\n",
       "      <td>12:29:24</td>\n",
       "      <td>78</td>\n",
       "      <td>3181</td>\n",
       "      <td>1</td>\n",
       "      <td>32.78699</td>\n",
       "      <td>12:29</td>\n",
       "      <td>24</td>\n",
       "    </tr>\n",
       "    <tr>\n",
       "      <th>4</th>\n",
       "      <td>2018/11/22</td>\n",
       "      <td>12:29:25</td>\n",
       "      <td>78</td>\n",
       "      <td>3180</td>\n",
       "      <td>1</td>\n",
       "      <td>32.77668</td>\n",
       "      <td>12:29</td>\n",
       "      <td>25</td>\n",
       "    </tr>\n",
       "  </tbody>\n",
       "</table>\n",
       "</div>"
      ],
      "text/plain": [
       "            0         1   2     3  4        BT  time1 sec\n",
       "0  2018/11/22  12:29:21  79  3176  0  32.73544  12:29  21\n",
       "1  2018/11/22  12:29:22  79  3179  0  32.76637  12:29  22\n",
       "2  2018/11/22  12:29:23  79  3182  0  32.79730  12:29  23\n",
       "3  2018/11/22  12:29:24  78  3181  1  32.78699  12:29  24\n",
       "4  2018/11/22  12:29:25  78  3180  1  32.77668  12:29  25"
      ]
     },
     "execution_count": 19,
     "metadata": {},
     "output_type": "execute_result"
    }
   ],
   "source": [
    "csvDf.head()"
   ]
  },
  {
   "cell_type": "code",
   "execution_count": 13,
   "metadata": {},
   "outputs": [],
   "source": [
    "csvDf.to_csv('output.csv', sep='\\t', encoding='utf-8') #輸出tab分隔, utf-8編碼.csv"
   ]
  },
  {
   "cell_type": "code",
   "execution_count": 19,
   "metadata": {},
   "outputs": [
    {
     "data": {
      "text/plain": [
       "Text(0, 0.5, 'Body surface temperature(Top 100 rows)')"
      ]
     },
     "execution_count": 19,
     "metadata": {},
     "output_type": "execute_result"
    },
    {
     "data": {
      "image/png": "[encoded data removed]",
      "text/plain": [
       "<Figure size 432x288 with 1 Axes>"
      ]
     },
     "metadata": {
      "needs_background": "light"
     },
     "output_type": "display_data"
    }
   ],
   "source": [
    "plt.plot(csvDf[0][:100]+csvDf[1][:100],csvDf.BT[:100])\n",
    "plt.xlabel('Timestamp(Top 100 rows)')\n",
    "plt.ylabel('Body surface temperature(Top 100 rows)')"
   ]
  }
 ],
 "metadata": {
  "kernelspec": {
   "display_name": "Python 3",
   "language": "python",
   "name": "python3"
  },
  "language_info": {
   "codemirror_mode": {
    "name": "ipython",
    "version": 3
   },
   "file_extension": ".py",
   "mimetype": "text/x-python",
   "name": "python",
   "nbconvert_exporter": "python",
   "pygments_lexer": "ipython3",
   "version": "3.6.5"
  }
 },
 "nbformat": 4,
 "nbformat_minor": 2
}
